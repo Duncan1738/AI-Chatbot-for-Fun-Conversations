{
  "nbformat": 4,
  "nbformat_minor": 0,
  "metadata": {
    "colab": {
      "provenance": [],
      "authorship_tag": "ABX9TyNq2ej45nhM4zlWPV2tOGXp",
      "include_colab_link": true
    },
    "kernelspec": {
      "name": "python3",
      "display_name": "Python 3"
    },
    "language_info": {
      "name": "python"
    }
  },
  "cells": [
    {
      "cell_type": "markdown",
      "metadata": {
        "id": "view-in-github",
        "colab_type": "text"
      },
      "source": [
        "<a href=\"https://colab.research.google.com/github/Duncan1738/AI-Chatbot-for-Fun-Conversations/blob/main/AI_Chatbot_for_Fun_Conversations.ipynb\" target=\"_parent\"><img src=\"https://colab.research.google.com/assets/colab-badge.svg\" alt=\"Open In Colab\"/></a>"
      ]
    },
    {
      "cell_type": "code",
      "execution_count": null,
      "metadata": {
        "id": "aVcuDct0HnpK"
      },
      "outputs": [],
      "source": [
        "# ========================\n",
        "# 📌 Install Dependencies\n",
        "# ========================\n",
        "!pip install transformers torch openai\n",
        "\n",
        "# ===========================\n",
        "# 🤖 Load GPT-2 for Chatbot\n",
        "# ===========================\n",
        "from transformers import pipeline\n",
        "\n",
        "# Load pre-trained GPT-2 model\n",
        "chatbot = pipeline(\"text-generation\", model=\"gpt2\")\n",
        "\n",
        "# ===========================\n",
        "# 💬 Basic Chatbot Function\n",
        "# ===========================\n",
        "def chat(prompt, max_length=100):\n",
        "    response = chatbot(prompt, max_length=max_length, num_return_sequences=1)[0]['generated_text']\n",
        "    return response\n",
        "\n",
        "# ===========================\n",
        "# 🎭 Roleplay Mode (Character-Based Chatbot)\n",
        "# ===========================\n",
        "def roleplay_chat(persona, user_input):\n",
        "    prompt = f\"You are {persona}. Respond to: {user_input}\"\n",
        "    response = chat(prompt)\n",
        "    return f\"🎭 {persona}:\\n{response}\"\n",
        "\n",
        "# ===========================\n",
        "# 😂 Joke Mode (Humor Chatbot)\n",
        "# ===========================\n",
        "def tell_joke():\n",
        "    joke_prompt = \"Tell me a funny joke about AI.\"\n",
        "    return chat(joke_prompt)\n",
        "\n",
        "# ===========================\n",
        "# 📖 Storytelling Mode (AI as a Storyteller)\n",
        "# ===========================\n",
        "def generate_story():\n",
        "    story_prompt = \"Once upon a time, in a distant galaxy, there was a robot who discovered...\"\n",
        "    return chat(story_prompt)\n",
        "\n",
        "# ===========================\n",
        "# 🔄 Interactive Chatbot\n",
        "# ===========================\n",
        "def interactive_chat():\n",
        "    print(\"\\n🤖 AI Chatbot: Hello! Let's chat. Type 'exit' to stop.\")\n",
        "    while True:\n",
        "        user_input = input(\"You: \")\n",
        "        if user_input.lower() == \"exit\":\n",
        "            print(\"\\n🤖 AI Chatbot: Goodbye! Have a great day! 👋\")\n",
        "            break\n",
        "        elif user_input.lower().startswith(\"roleplay\"):\n",
        "            # Example: \"roleplay as a pirate\"\n",
        "            persona = user_input.split(\"roleplay as\")[-1].strip()\n",
        "            if persona:\n",
        "                response = roleplay_chat(persona, \"Introduce yourself.\")\n",
        "            else:\n",
        "                response = \"Please specify a roleplay character! Example: 'roleplay as a wizard'\"\n",
        "        elif user_input.lower() == \"tell me a joke\":\n",
        "            response = tell_joke()\n",
        "        elif user_input.lower() == \"tell me a story\":\n",
        "            response = generate_story()\n",
        "        else:\n",
        "            response = chat(user_input)\n",
        "\n",
        "        print(f\"\\n🤖 AI Chatbot:\\n{response}\\n\")\n",
        "\n",
        "# ===========================\n",
        "# 🚀 Run the Interactive Chatbot\n",
        "# ===========================\n",
        "interactive_chat()\n",
        "\n"
      ]
    }
  ]
}